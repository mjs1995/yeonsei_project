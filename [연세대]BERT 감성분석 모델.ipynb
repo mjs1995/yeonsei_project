{
  "nbformat": 4,
  "nbformat_minor": 0,
  "metadata": {
    "kernelspec": {
      "language": "python",
      "display_name": "Python 3",
      "name": "python3"
    },
    "language_info": {
      "pygments_lexer": "ipython3",
      "nbconvert_exporter": "python",
      "version": "3.6.4",
      "file_extension": ".py",
      "codemirror_mode": {
        "name": "ipython",
        "version": 3
      },
      "name": "python",
      "mimetype": "text/x-python"
    },
    "colab": {
      "name": "BERT Model.ipynb",
      "provenance": [],
      "collapsed_sections": []
    },
    "accelerator": "GPU"
  },
  "cells": [
    {
      "cell_type": "code",
      "metadata": {
        "trusted": true,
        "id": "4GwVrv3RbDEh",
        "colab_type": "code",
        "colab": {}
      },
      "source": [
        "# We will use the official tokenization script created by the Google team\n",
        "!wget --quiet https://raw.githubusercontent.com/tensorflow/models/master/official/nlp/bert/tokenization.py"
      ],
      "execution_count": 1,
      "outputs": []
    },
    {
      "cell_type": "code",
      "metadata": {
        "id": "bBtRRJ04cNF0",
        "colab_type": "code",
        "colab": {
          "base_uri": "https://localhost:8080/",
          "height": 34
        },
        "outputId": "b4337cd6-047d-4e82-ca5b-c2968421e71e"
      },
      "source": [
        "!pip install sentencepiece"
      ],
      "execution_count": 2,
      "outputs": [
        {
          "output_type": "stream",
          "text": [
            "Requirement already satisfied: sentencepiece in /usr/local/lib/python3.6/dist-packages (0.1.91)\n"
          ],
          "name": "stdout"
        }
      ]
    },
    {
      "cell_type": "code",
      "metadata": {
        "_uuid": "8f2839f25d086af736a60e9eeb907d3b93b6e0e5",
        "_cell_guid": "b1076dfc-b9ad-4769-8c92-a6c4dae69d19",
        "trusted": true,
        "id": "ysPksUKnbDEk",
        "colab_type": "code",
        "colab": {}
      },
      "source": [
        "import numpy as np\n",
        "import pandas as pd\n",
        "import tensorflow as tf\n",
        "from tensorflow.keras.layers import Dense, Input\n",
        "from tensorflow.keras.optimizers import Adam\n",
        "from tensorflow.keras.models import Model\n",
        "from tensorflow.keras.callbacks import ModelCheckpoint\n",
        "import tensorflow_hub as hub\n",
        "\n",
        "import tokenization"
      ],
      "execution_count": 3,
      "outputs": []
    },
    {
      "cell_type": "markdown",
      "metadata": {
        "id": "R7csRyp-bDEm",
        "colab_type": "text"
      },
      "source": [
        "# Helper Functions"
      ]
    },
    {
      "cell_type": "code",
      "metadata": {
        "trusted": true,
        "id": "z58kExLkbDEm",
        "colab_type": "code",
        "colab": {}
      },
      "source": [
        "def bert_encode(texts, tokenizer, max_len=128):\n",
        "    all_tokens = []\n",
        "    all_masks = []\n",
        "    all_segments = []\n",
        "    \n",
        "    for text in texts:\n",
        "        text = tokenizer.tokenize(text)\n",
        "            \n",
        "        text = text[:max_len-2]\n",
        "        input_sequence = [\"[CLS]\"] + text + [\"[SEP]\"]\n",
        "        pad_len = max_len - len(input_sequence)\n",
        "        \n",
        "        tokens = tokenizer.convert_tokens_to_ids(input_sequence)\n",
        "        tokens += [0] * pad_len\n",
        "        pad_masks = [1] * len(input_sequence) + [0] * pad_len\n",
        "        segment_ids = [0] * max_len\n",
        "        \n",
        "        all_tokens.append(tokens)\n",
        "        all_masks.append(pad_masks)\n",
        "        all_segments.append(segment_ids)\n",
        "    \n",
        "    return np.array(all_tokens), np.array(all_masks), np.array(all_segments)"
      ],
      "execution_count": 4,
      "outputs": []
    },
    {
      "cell_type": "code",
      "metadata": {
        "_uuid": "d629ff2d2480ee46fbb7e2d37f6b5fab8052498a",
        "_cell_guid": "79c7e3d0-c299-4dcb-8224-4455121ee9b0",
        "trusted": true,
        "id": "aAObzxpebDEp",
        "colab_type": "code",
        "colab": {}
      },
      "source": [
        "def build_model(bert_layer, max_len=128):\n",
        "    input_word_ids = Input(shape=(max_len,), dtype=tf.int32, name=\"input_word_ids\")\n",
        "    input_mask = Input(shape=(max_len,), dtype=tf.int32, name=\"input_mask\")\n",
        "    segment_ids = Input(shape=(max_len,), dtype=tf.int32, name=\"segment_ids\")\n",
        "\n",
        "    _, sequence_output = bert_layer([input_word_ids, input_mask, segment_ids])\n",
        "    clf_output = sequence_output[:, 0, :]\n",
        "    out = Dense(1, activation='sigmoid')(clf_output)\n",
        "    \n",
        "    model = Model(inputs=[input_word_ids, input_mask, segment_ids], outputs=out)\n",
        "    model.compile(Adam(lr=1e-5), loss='binary_crossentropy', metrics=['accuracy'])\n",
        "    \n",
        "    return model"
      ],
      "execution_count": 5,
      "outputs": []
    },
    {
      "cell_type": "markdown",
      "metadata": {
        "id": "Dr45sCJebDEr",
        "colab_type": "text"
      },
      "source": [
        "# Load and Preprocess\n",
        "\n",
        "- Load BERT from the Tensorflow Hub\n",
        "- Load CSV files containing training data\n",
        "- Load tokenizer from the bert layer\n",
        "- Encode the text into tokens, masks, and segment flags"
      ]
    },
    {
      "cell_type": "code",
      "metadata": {
        "trusted": true,
        "id": "8AFUY8vXbDEr",
        "colab_type": "code",
        "colab": {
          "base_uri": "https://localhost:8080/",
          "height": 51
        },
        "outputId": "c4ffa665-7ed7-4e9a-dd66-ff1221ef5fec"
      },
      "source": [
        "%%time\n",
        "module_url = \"https://tfhub.dev/tensorflow/bert_en_uncased_L-24_H-1024_A-16/1\"\n",
        "bert_layer = hub.KerasLayer(module_url, trainable=True)"
      ],
      "execution_count": 6,
      "outputs": [
        {
          "output_type": "stream",
          "text": [
            "CPU times: user 11.5 s, sys: 2.34 s, total: 13.8 s\n",
            "Wall time: 13.6 s\n"
          ],
          "name": "stdout"
        }
      ]
    },
    {
      "cell_type": "code",
      "metadata": {
        "id": "rSgGRuvBcXMR",
        "colab_type": "code",
        "colab": {
          "base_uri": "https://localhost:8080/",
          "height": 34
        },
        "outputId": "606543ce-ac0d-4714-f711-0f755d357ce7"
      },
      "source": [
        "from google.colab import drive\n",
        "drive.mount('/content/drive')"
      ],
      "execution_count": 7,
      "outputs": [
        {
          "output_type": "stream",
          "text": [
            "Drive already mounted at /content/drive; to attempt to forcibly remount, call drive.mount(\"/content/drive\", force_remount=True).\n"
          ],
          "name": "stdout"
        }
      ]
    },
    {
      "cell_type": "code",
      "metadata": {
        "id": "M195v8mScdju",
        "colab_type": "code",
        "colab": {
          "base_uri": "https://localhost:8080/",
          "height": 238
        },
        "outputId": "f8a61548-e439-4f11-980b-907bcb6ef506"
      },
      "source": [
        "!ls '/content/drive/My Drive/프로젝트'"
      ],
      "execution_count": 8,
      "outputs": [
        {
          "output_type": "stream",
          "text": [
            "'교육 데이터'\t\t        data17_final.csv\n",
            "'데청 플젝 데이터'\t        data18_final.csv\n",
            "'사회보호 데이터'\t       '지방소멸화 논문.pdf'\n",
            "'07.13 회의.hwp'\t       'permutation importance best.PNG'\n",
            "'데청프로젝트 baseline.ipynb'  'permutation importance worst.PNG'\n",
            " 중앙일보서천군.csv\t        result_news_1.csv\n",
            " 중앙일보고성군.csv\t        result_news_2.csv\n",
            " 경향신문서천군.csv\t        score.PNG\n",
            " 중앙일보곡성군.csv\t        test.csv\n",
            " 경향신문고성군.csv\t        train.csv\n",
            " 중앙일보평창군.csv\t        train_utf.csv\n",
            " 경향신문곡성군.csv\t       '데청프로젝트 voting.ipynb'\n",
            " 경향신문평창군.csv\t       '데청 플젝 데이터.zip'\n"
          ],
          "name": "stdout"
        }
      ]
    },
    {
      "cell_type": "code",
      "metadata": {
        "trusted": true,
        "id": "yYu7n0ZLbDEu",
        "colab_type": "code",
        "colab": {}
      },
      "source": [
        "data = pd.read_csv(\"/content/drive/My Drive/프로젝트/result_news_2.csv\", encoding = \"cp949\")"
      ],
      "execution_count": 9,
      "outputs": []
    },
    {
      "cell_type": "code",
      "metadata": {
        "id": "nKFuwpsBYKWC",
        "colab_type": "code",
        "colab": {}
      },
      "source": [
        "중앙_곡성 = pd.read_csv(\"/content/drive/My Drive/프로젝트/중앙일보곡성군.csv\")\n",
        "중앙_고성 = pd.read_csv(\"/content/drive/My Drive/프로젝트/중앙일보고성군.csv\")\n",
        "중앙_서천 = pd.read_csv(\"/content/drive/My Drive/프로젝트/중앙일보서천군.csv\")\n",
        "중앙_평창 = pd.read_csv(\"/content/drive/My Drive/프로젝트/중앙일보평창군.csv\")\n",
        "\n",
        "경향_곡성 = pd.read_csv(\"/content/drive/My Drive/프로젝트/경향신문곡성군.csv\")\n",
        "경향_고성 = pd.read_csv(\"/content/drive/My Drive/프로젝트/경향신문고성군.csv\")\n",
        "경향_서천 = pd.read_csv(\"/content/drive/My Drive/프로젝트/경향신문서천군.csv\")\n",
        "경향_평창 = pd.read_csv(\"/content/drive/My Drive/프로젝트/경향신문평창군.csv\")"
      ],
      "execution_count": 10,
      "outputs": []
    },
    {
      "cell_type": "code",
      "metadata": {
        "id": "aY-yL5pXZ2Wv",
        "colab_type": "code",
        "colab": {}
      },
      "source": [
        "test_곡성 = pd.concat([중앙_곡성, 경향_곡성], axis = 0)\n",
        "test_고성 = pd.concat([중앙_고성, 경향_고성], axis = 0)\n",
        "test_서천 = pd.concat([중앙_서천, 경향_서천], axis = 0)\n",
        "test_평창 = pd.concat([중앙_평창, 경향_평창], axis = 0)"
      ],
      "execution_count": 11,
      "outputs": []
    },
    {
      "cell_type": "code",
      "metadata": {
        "id": "0Zu9Y-vutaRh",
        "colab_type": "code",
        "colab": {
          "base_uri": "https://localhost:8080/",
          "height": 34
        },
        "outputId": "c4f1bf5b-763e-4fd8-e875-6809668e3c31"
      },
      "source": [
        "len(test_고성)"
      ],
      "execution_count": 35,
      "outputs": [
        {
          "output_type": "execute_result",
          "data": {
            "text/plain": [
              "244"
            ]
          },
          "metadata": {
            "tags": []
          },
          "execution_count": 35
        }
      ]
    },
    {
      "cell_type": "code",
      "metadata": {
        "id": "Z05vQ6al3lb2",
        "colab_type": "code",
        "colab": {
          "base_uri": "https://localhost:8080/",
          "height": 102
        },
        "outputId": "96c8dd27-2f51-433b-976f-57d5e5505b5f"
      },
      "source": [
        "data.isnull().sum()"
      ],
      "execution_count": 12,
      "outputs": [
        {
          "output_type": "execute_result",
          "data": {
            "text/plain": [
              "score      0\n",
              "text       0\n",
              "class_2    0\n",
              "class_3    0\n",
              "dtype: int64"
            ]
          },
          "metadata": {
            "tags": []
          },
          "execution_count": 12
        }
      ]
    },
    {
      "cell_type": "code",
      "metadata": {
        "id": "-eccp6FuzyyA",
        "colab_type": "code",
        "colab": {
          "base_uri": "https://localhost:8080/",
          "height": 204
        },
        "outputId": "105f72d5-000d-4ab3-b037-07a0b4448bd6"
      },
      "source": [
        "data.head()"
      ],
      "execution_count": 13,
      "outputs": [
        {
          "output_type": "execute_result",
          "data": {
            "text/html": [
              "<div>\n",
              "<style scoped>\n",
              "    .dataframe tbody tr th:only-of-type {\n",
              "        vertical-align: middle;\n",
              "    }\n",
              "\n",
              "    .dataframe tbody tr th {\n",
              "        vertical-align: top;\n",
              "    }\n",
              "\n",
              "    .dataframe thead th {\n",
              "        text-align: right;\n",
              "    }\n",
              "</style>\n",
              "<table border=\"1\" class=\"dataframe\">\n",
              "  <thead>\n",
              "    <tr style=\"text-align: right;\">\n",
              "      <th></th>\n",
              "      <th>score</th>\n",
              "      <th>text</th>\n",
              "      <th>class_2</th>\n",
              "      <th>class_3</th>\n",
              "    </tr>\n",
              "  </thead>\n",
              "  <tbody>\n",
              "    <tr>\n",
              "      <th>0</th>\n",
              "      <td>-1</td>\n",
              "      <td>기고 치수의 백년대계  하천관리 일원화부터홍수와 같은 재해가 발생하면 통상적으로 천...</td>\n",
              "      <td>0</td>\n",
              "      <td>긍정</td>\n",
              "    </tr>\n",
              "    <tr>\n",
              "      <th>1</th>\n",
              "      <td>-3</td>\n",
              "      <td>김종인 혼자 짊어진  통합당 개혁  어디까지5 18 유공자 예우 강화 법안  발표서...</td>\n",
              "      <td>0</td>\n",
              "      <td>긍정</td>\n",
              "    </tr>\n",
              "    <tr>\n",
              "      <th>2</th>\n",
              "      <td>-1</td>\n",
              "      <td>단독  값없는 노동 에 막막 2030 연구자들에 주거 연구 공간 준다정부  비정규직...</td>\n",
              "      <td>0</td>\n",
              "      <td>긍정</td>\n",
              "    </tr>\n",
              "    <tr>\n",
              "      <th>3</th>\n",
              "      <td>0</td>\n",
              "      <td>경북서 21일 광화문 집회 관련 4명 등 6명 코로나19 추가 확진21일 경북 지역...</td>\n",
              "      <td>0</td>\n",
              "      <td>긍정</td>\n",
              "    </tr>\n",
              "    <tr>\n",
              "      <th>4</th>\n",
              "      <td>0</td>\n",
              "      <td>원주 체조교실발 코로나19 확진자 급증   4명 추가 12명으로 늘어강원 원주시의 ...</td>\n",
              "      <td>0</td>\n",
              "      <td>긍정</td>\n",
              "    </tr>\n",
              "  </tbody>\n",
              "</table>\n",
              "</div>"
            ],
            "text/plain": [
              "   score                                               text  class_2 class_3\n",
              "0     -1  기고 치수의 백년대계  하천관리 일원화부터홍수와 같은 재해가 발생하면 통상적으로 천...        0      긍정\n",
              "1     -3  김종인 혼자 짊어진  통합당 개혁  어디까지5 18 유공자 예우 강화 법안  발표서...        0      긍정\n",
              "2     -1  단독  값없는 노동 에 막막 2030 연구자들에 주거 연구 공간 준다정부  비정규직...        0      긍정\n",
              "3      0  경북서 21일 광화문 집회 관련 4명 등 6명 코로나19 추가 확진21일 경북 지역...        0      긍정\n",
              "4      0  원주 체조교실발 코로나19 확진자 급증   4명 추가 12명으로 늘어강원 원주시의 ...        0      긍정"
            ]
          },
          "metadata": {
            "tags": []
          },
          "execution_count": 13
        }
      ]
    },
    {
      "cell_type": "code",
      "metadata": {
        "id": "4d-GFWkoaF7m",
        "colab_type": "code",
        "colab": {}
      },
      "source": [
        "test_곡성[\"class_2\"] = 0\n",
        "test_고성[\"class_2\"] = 0\n",
        "test_서천[\"class_2\"] = 0\n",
        "test_평창[\"class_2\"] = 0"
      ],
      "execution_count": 14,
      "outputs": []
    },
    {
      "cell_type": "code",
      "metadata": {
        "id": "CpVDvzDPk--i",
        "colab_type": "code",
        "colab": {}
      },
      "source": [
        "drop_list =  list(data.loc[data[\"score\"] == 0].index)"
      ],
      "execution_count": 15,
      "outputs": []
    },
    {
      "cell_type": "code",
      "metadata": {
        "id": "XV2NEH0JkGlR",
        "colab_type": "code",
        "colab": {}
      },
      "source": [
        "data.drop(drop_list, axis = 0, inplace = True)"
      ],
      "execution_count": 16,
      "outputs": []
    },
    {
      "cell_type": "code",
      "metadata": {
        "id": "48oQ30RPkF-E",
        "colab_type": "code",
        "colab": {}
      },
      "source": [
        "data.reset_index(inplace = True)"
      ],
      "execution_count": 17,
      "outputs": []
    },
    {
      "cell_type": "code",
      "metadata": {
        "id": "BbfQ5q73lOC2",
        "colab_type": "code",
        "colab": {
          "base_uri": "https://localhost:8080/",
          "height": 34
        },
        "outputId": "74f76318-580e-4ee0-90f1-46eea56b0ddb"
      },
      "source": [
        "len(data)"
      ],
      "execution_count": 18,
      "outputs": [
        {
          "output_type": "execute_result",
          "data": {
            "text/plain": [
              "15570"
            ]
          },
          "metadata": {
            "tags": []
          },
          "execution_count": 18
        }
      ]
    },
    {
      "cell_type": "code",
      "metadata": {
        "id": "Z9xV1YFRRjW_",
        "colab_type": "code",
        "colab": {
          "base_uri": "https://localhost:8080/",
          "height": 204
        },
        "outputId": "e8df1f27-168f-4ffb-c668-38f8403f2410"
      },
      "source": [
        "data.head()"
      ],
      "execution_count": 19,
      "outputs": [
        {
          "output_type": "execute_result",
          "data": {
            "text/html": [
              "<div>\n",
              "<style scoped>\n",
              "    .dataframe tbody tr th:only-of-type {\n",
              "        vertical-align: middle;\n",
              "    }\n",
              "\n",
              "    .dataframe tbody tr th {\n",
              "        vertical-align: top;\n",
              "    }\n",
              "\n",
              "    .dataframe thead th {\n",
              "        text-align: right;\n",
              "    }\n",
              "</style>\n",
              "<table border=\"1\" class=\"dataframe\">\n",
              "  <thead>\n",
              "    <tr style=\"text-align: right;\">\n",
              "      <th></th>\n",
              "      <th>index</th>\n",
              "      <th>score</th>\n",
              "      <th>text</th>\n",
              "      <th>class_2</th>\n",
              "      <th>class_3</th>\n",
              "    </tr>\n",
              "  </thead>\n",
              "  <tbody>\n",
              "    <tr>\n",
              "      <th>0</th>\n",
              "      <td>0</td>\n",
              "      <td>-1</td>\n",
              "      <td>기고 치수의 백년대계  하천관리 일원화부터홍수와 같은 재해가 발생하면 통상적으로 천...</td>\n",
              "      <td>0</td>\n",
              "      <td>긍정</td>\n",
              "    </tr>\n",
              "    <tr>\n",
              "      <th>1</th>\n",
              "      <td>1</td>\n",
              "      <td>-3</td>\n",
              "      <td>김종인 혼자 짊어진  통합당 개혁  어디까지5 18 유공자 예우 강화 법안  발표서...</td>\n",
              "      <td>0</td>\n",
              "      <td>긍정</td>\n",
              "    </tr>\n",
              "    <tr>\n",
              "      <th>2</th>\n",
              "      <td>2</td>\n",
              "      <td>-1</td>\n",
              "      <td>단독  값없는 노동 에 막막 2030 연구자들에 주거 연구 공간 준다정부  비정규직...</td>\n",
              "      <td>0</td>\n",
              "      <td>긍정</td>\n",
              "    </tr>\n",
              "    <tr>\n",
              "      <th>3</th>\n",
              "      <td>7</td>\n",
              "      <td>-1</td>\n",
              "      <td>경기지역 일일 신규 확진 코로나 사태 후 최다   삼성전자 기흥캠퍼스  확진자 나와...</td>\n",
              "      <td>0</td>\n",
              "      <td>긍정</td>\n",
              "    </tr>\n",
              "    <tr>\n",
              "      <th>4</th>\n",
              "      <td>9</td>\n",
              "      <td>-1</td>\n",
              "      <td>서울 경찰 간부 자택서 숨진 채 발견서울 지역의 경찰서 소속 간부가 자택에서 숨진 ...</td>\n",
              "      <td>0</td>\n",
              "      <td>긍정</td>\n",
              "    </tr>\n",
              "  </tbody>\n",
              "</table>\n",
              "</div>"
            ],
            "text/plain": [
              "   index  score  ... class_2  class_3\n",
              "0      0     -1  ...       0       긍정\n",
              "1      1     -3  ...       0       긍정\n",
              "2      2     -1  ...       0       긍정\n",
              "3      7     -1  ...       0       긍정\n",
              "4      9     -1  ...       0       긍정\n",
              "\n",
              "[5 rows x 5 columns]"
            ]
          },
          "metadata": {
            "tags": []
          },
          "execution_count": 19
        }
      ]
    },
    {
      "cell_type": "code",
      "metadata": {
        "id": "2ofX95nn3cfa",
        "colab_type": "code",
        "colab": {}
      },
      "source": [
        "data[\"text\"] = data[\"text\"].astype(\"string\")"
      ],
      "execution_count": 20,
      "outputs": []
    },
    {
      "cell_type": "code",
      "metadata": {
        "id": "4AZ_D1-haY6m",
        "colab_type": "code",
        "colab": {}
      },
      "source": [
        "test_곡성[\"기사 내용\"] = test_곡성[\"기사 내용\"].astype(\"string\")\n",
        "test_고성[\"기사 내용\"] = test_고성[\"기사 내용\"].astype(\"string\")\n",
        "test_서천[\"기사 내용\"] = test_서천[\"기사 내용\"].astype(\"string\")\n",
        "test_평창[\"기사 내용\"] = test_평창[\"기사 내용\"].astype(\"string\")"
      ],
      "execution_count": 21,
      "outputs": []
    },
    {
      "cell_type": "code",
      "metadata": {
        "id": "tfajXmWYdFIT",
        "colab_type": "code",
        "colab": {}
      },
      "source": [
        "from sklearn.model_selection import train_test_split\n",
        "from sklearn import metrics\n",
        "\n",
        "train = data.drop(\"class_2\", axis = 1)\n",
        "train_labels = data[\"class_2\"]"
      ],
      "execution_count": 22,
      "outputs": []
    },
    {
      "cell_type": "code",
      "metadata": {
        "trusted": true,
        "id": "DxDV2IsTbDEz",
        "colab_type": "code",
        "colab": {}
      },
      "source": [
        "vocab_file = bert_layer.resolved_object.vocab_file.asset_path.numpy()\n",
        "do_lower_case = bert_layer.resolved_object.do_lower_case.numpy()\n",
        "tokenizer = tokenization.FullTokenizer(vocab_file, do_lower_case)"
      ],
      "execution_count": 23,
      "outputs": []
    },
    {
      "cell_type": "code",
      "metadata": {
        "trusted": true,
        "id": "G2zwhspubDE1",
        "colab_type": "code",
        "colab": {}
      },
      "source": [
        "train_input = bert_encode(train[\"text\"].values, tokenizer, max_len=128)\n",
        "\n",
        "곡성_input = bert_encode(test_곡성[\"기사 내용\"].values, tokenizer, max_len=128)\n",
        "고성_input = bert_encode(test_고성[\"기사 내용\"].values, tokenizer, max_len=128)\n",
        "서천_input = bert_encode(test_서천[\"기사 내용\"].values, tokenizer, max_len=128)\n",
        "평창_input = bert_encode(test_평창[\"기사 내용\"].values, tokenizer, max_len=128)"
      ],
      "execution_count": 24,
      "outputs": []
    },
    {
      "cell_type": "markdown",
      "metadata": {
        "id": "Niuojn9BbDE2",
        "colab_type": "text"
      },
      "source": [
        "# Model: Build, Train, Predict, Submit"
      ]
    },
    {
      "cell_type": "code",
      "metadata": {
        "trusted": true,
        "id": "HUbjlOlCbDE3",
        "colab_type": "code",
        "colab": {
          "base_uri": "https://localhost:8080/",
          "height": 391
        },
        "outputId": "095c8398-bf3c-4a41-9e7d-7d7b2e3547b8"
      },
      "source": [
        "model = build_model(bert_layer, max_len=128)\n",
        "model.summary()"
      ],
      "execution_count": 25,
      "outputs": [
        {
          "output_type": "stream",
          "text": [
            "Model: \"functional_1\"\n",
            "__________________________________________________________________________________________________\n",
            "Layer (type)                    Output Shape         Param #     Connected to                     \n",
            "==================================================================================================\n",
            "input_word_ids (InputLayer)     [(None, 128)]        0                                            \n",
            "__________________________________________________________________________________________________\n",
            "input_mask (InputLayer)         [(None, 128)]        0                                            \n",
            "__________________________________________________________________________________________________\n",
            "segment_ids (InputLayer)        [(None, 128)]        0                                            \n",
            "__________________________________________________________________________________________________\n",
            "keras_layer (KerasLayer)        [(None, 1024), (None 335141889   input_word_ids[0][0]             \n",
            "                                                                 input_mask[0][0]                 \n",
            "                                                                 segment_ids[0][0]                \n",
            "__________________________________________________________________________________________________\n",
            "tf_op_layer_strided_slice (Tens [(None, 1024)]       0           keras_layer[0][1]                \n",
            "__________________________________________________________________________________________________\n",
            "dense (Dense)                   (None, 1)            1025        tf_op_layer_strided_slice[0][0]  \n",
            "==================================================================================================\n",
            "Total params: 335,142,914\n",
            "Trainable params: 335,142,913\n",
            "Non-trainable params: 1\n",
            "__________________________________________________________________________________________________\n"
          ],
          "name": "stdout"
        }
      ]
    },
    {
      "cell_type": "code",
      "metadata": {
        "trusted": true,
        "id": "vXssFG8_bDE5",
        "colab_type": "code",
        "colab": {
          "base_uri": "https://localhost:8080/",
          "height": 187
        },
        "outputId": "3cea4750-f9f8-464d-f9ad-adb1a7c02d1e"
      },
      "source": [
        "checkpoint = ModelCheckpoint('model.h5', monitor='val_loss', save_best_only=True)\n",
        "\n",
        "train_history = model.fit(\n",
        "    train_input, train_labels,\n",
        "    validation_split=0.3,\n",
        "    epochs=5,\n",
        "    callbacks=[checkpoint],\n",
        "    batch_size=16\n",
        ")"
      ],
      "execution_count": 27,
      "outputs": [
        {
          "output_type": "stream",
          "text": [
            "Epoch 1/5\n",
            "682/682 [==============================] - 1144s 2s/step - loss: 0.6889 - accuracy: 0.5535 - val_loss: 0.6692 - val_accuracy: 0.5902\n",
            "Epoch 2/5\n",
            "682/682 [==============================] - 1147s 2s/step - loss: 0.6559 - accuracy: 0.6112 - val_loss: 0.6439 - val_accuracy: 0.6253\n",
            "Epoch 3/5\n",
            "682/682 [==============================] - 1146s 2s/step - loss: 0.6125 - accuracy: 0.6562 - val_loss: 0.6139 - val_accuracy: 0.6656\n",
            "Epoch 4/5\n",
            "682/682 [==============================] - 1145s 2s/step - loss: 0.5266 - accuracy: 0.7336 - val_loss: 0.5960 - val_accuracy: 0.6761\n",
            "Epoch 5/5\n",
            "682/682 [==============================] - 1149s 2s/step - loss: 0.3706 - accuracy: 0.8309 - val_loss: 0.5518 - val_accuracy: 0.7487\n"
          ],
          "name": "stdout"
        }
      ]
    },
    {
      "cell_type": "code",
      "metadata": {
        "trusted": true,
        "id": "IqUX3keabDE7",
        "colab_type": "code",
        "colab": {}
      },
      "source": [
        "model.load_weights('model.h5')\n",
        "곡성_pred = model.predict(곡성_input)\n",
        "고성_pred = model.predict(고성_input)\n",
        "서천_pred = model.predict(서천_input)\n",
        "평창_pred = model.predict(평창_input)\n",
        "\n",
        "곡성_label = 곡성_pred.round().astype('int')\n",
        "고성_label = 고성_pred.round().astype('int')\n",
        "서천_label = 서천_pred.round().astype('int')\n",
        "평창_label = 평창_pred.round().astype('int')"
      ],
      "execution_count": 41,
      "outputs": []
    },
    {
      "cell_type": "code",
      "metadata": {
        "id": "5DNfBMGtz5Zx",
        "colab_type": "code",
        "colab": {}
      },
      "source": [
        "곡성_label = pd.DataFrame(곡성_label, columns=[\"class_2\"])\n",
        "고성_label = pd.DataFrame(고성_label, columns=[\"class_2\"])\n",
        "서천_label = pd.DataFrame(서천_label, columns=[\"class_2\"])\n",
        "평창_label = pd.DataFrame(평창_label, columns=[\"class_2\"])"
      ],
      "execution_count": 29,
      "outputs": []
    },
    {
      "cell_type": "code",
      "metadata": {
        "id": "ILOU_6JKD8eZ",
        "colab_type": "code",
        "colab": {}
      },
      "source": [
        "test_곡성[\"class_2\"] = 곡성_label\n",
        "test_고성[\"class_2\"] = 고성_label\n",
        "test_서천[\"class_2\"] = 서천_label\n",
        "test_평창[\"class_2\"] = 평창_label"
      ],
      "execution_count": 46,
      "outputs": []
    },
    {
      "cell_type": "code",
      "metadata": {
        "id": "jgZ9zl2Kthg7",
        "colab_type": "code",
        "colab": {}
      },
      "source": [
        "test_곡성.reset_index(inplace = True)\n",
        "test_고성.reset_index(inplace = True)\n",
        "test_서천.reset_index(inplace = True)\n",
        "test_평창.reset_index(inplace = True)"
      ],
      "execution_count": 52,
      "outputs": []
    },
    {
      "cell_type": "code",
      "metadata": {
        "id": "KDqrhHkyqG8Y",
        "colab_type": "code",
        "colab": {}
      },
      "source": [
        "test_곡성.drop([\"level_0\", \"Unnamed: 0\", \"index\"], axis = 1, inplace = True)\n",
        "test_고성.drop([\"level_0\", \"Unnamed: 0\", \"index\"], axis = 1, inplace = True)\n",
        "test_서천.drop([\"level_0\", \"Unnamed: 0\", \"index\"], axis = 1, inplace = True)\n",
        "test_평창.drop([\"level_0\", \"Unnamed: 0\", \"index\"], axis = 1, inplace = True)"
      ],
      "execution_count": 51,
      "outputs": []
    },
    {
      "cell_type": "code",
      "metadata": {
        "id": "WrJyqCxStSWY",
        "colab_type": "code",
        "colab": {}
      },
      "source": [
        "test_곡성.to_csv(\"/content/drive/My Drive/프로젝트/곡성감성분석.csv\")\n",
        "test_고성.to_csv(\"/content/drive/My Drive/프로젝트/고성감성분석.csv\")\n",
        "test_서천.to_csv(\"/content/drive/My Drive/프로젝트/서천감성분석.csv\")\n",
        "test_평창.to_csv(\"/content/drive/My Drive/프로젝트/평창감성분석.csv\")"
      ],
      "execution_count": 55,
      "outputs": []
    },
    {
      "cell_type": "code",
      "metadata": {
        "id": "QEAvGdYcuu-t",
        "colab_type": "code",
        "colab": {}
      },
      "source": [
        ""
      ],
      "execution_count": null,
      "outputs": []
    }
  ]
}